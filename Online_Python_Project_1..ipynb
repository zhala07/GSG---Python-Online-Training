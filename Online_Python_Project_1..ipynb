{
 "cells": [
  {
   "cell_type": "markdown",
   "id": "35cd472d",
   "metadata": {},
   "source": [
    "# Question 1:\n"
   ]
  },
  {
   "cell_type": "raw",
   "id": "37085f7e",
   "metadata": {},
   "source": [
    "a- Use the timing decorator to measure the running time for the following function:"
   ]
  },
  {
   "cell_type": "code",
   "execution_count": 1,
   "id": "d7dfda7e",
   "metadata": {},
   "outputs": [
    {
     "name": "stdout",
     "output_type": "stream",
     "text": [
      "Elapsed time: 0.01699 seconds\n"
     ]
    }
   ],
   "source": [
    "import time\n",
    "\n",
    "def timing_decorator(func):\n",
    "    def wrapper(*args, **kwargs):\n",
    "        start_time = time.time()\n",
    "        result = func(*args, **kwargs)\n",
    "        end_time = time.time()\n",
    "        print(f\"Elapsed time: {end_time - start_time:.5f} seconds\")\n",
    "        return result\n",
    "    return wrapper\n",
    "\n",
    "@timing_decorator\n",
    "def waste_some_time(num_times):\n",
    "    for _ in range(num_times):\n",
    "        sum([i**2 for i in range(10000)])\n",
    "\n",
    "waste_some_time(5)\n"
   ]
  },
  {
   "cell_type": "raw",
   "id": "56ae8b00",
   "metadata": {},
   "source": [
    "Try to run it with different test cases. There is a ready module in python which is timeit\n",
    "module and this module can be used to measure the runtime."
   ]
  },
  {
   "cell_type": "code",
   "execution_count": 2,
   "id": "292205af",
   "metadata": {},
   "outputs": [
    {
     "name": "stdout",
     "output_type": "stream",
     "text": [
      "0.2948492999998962\n",
      "2.9370874999999614\n",
      "30.27194869999994\n"
     ]
    }
   ],
   "source": [
    "import timeit\n",
    "\n",
    "def waste_some_time(num_times):\n",
    "    for _ in range(num_times):\n",
    "        sum([i**2 for i in range(10000)])\n",
    "\n",
    "print(timeit.timeit('waste_some_time(1)', setup='from __main__ import waste_some_time', number=100))\n",
    "print(timeit.timeit('waste_some_time(10)', setup='from __main__ import waste_some_time', number=100))\n",
    "print(timeit.timeit('waste_some_time(100)', setup='from __main__ import waste_some_time', number=100))\n"
   ]
  },
  {
   "cell_type": "markdown",
   "id": "5b0cc254",
   "metadata": {},
   "source": [
    "b- You are requested to use this module to measure the runtime for the first function, try\n",
    "to read and apply and compare the results of using the decorator and the module."
   ]
  },
  {
   "cell_type": "code",
   "execution_count": 3,
   "id": "d0d5e4d8",
   "metadata": {},
   "outputs": [
    {
     "name": "stdout",
     "output_type": "stream",
     "text": [
      "1.6324048999999832\n"
     ]
    }
   ],
   "source": [
    "import timeit\n",
    "\n",
    "def waste_some_time(num_times):\n",
    "    for _ in range(num_times):\n",
    "        sum([i**2 for i in range(10000)])\n",
    "\n",
    "print(timeit.timeit('waste_some_time(5)', globals=globals(), number=100))\n"
   ]
  },
  {
   "cell_type": "raw",
   "id": "7cba5a6e",
   "metadata": {},
   "source": [
    "c- Briefly, is there any difference between timing decorator and this module?\n",
    " the main difference between the timing decorator and the timeit module is that the timing decorator\n",
    "    is a simple way to measure the runtime of a function within the code itself, while the\n",
    "    timeit module is a more powerful tool for measuring the performance of code, both inside and outside of a Python program."
   ]
  },
  {
   "cell_type": "markdown",
   "id": "eae01e7c",
   "metadata": {},
   "source": [
    "# Question 2: (OOP)"
   ]
  },
  {
   "cell_type": "markdown",
   "id": "4632ab4f",
   "metadata": {},
   "source": [
    "Static methods: These are methods that belong to a class, but do not operate on class or instance variables. \n",
    "    They are often used for utility functions that are related to the class, but do not require access to instance \n",
    "    or class variables.\n",
    "\n",
    "Class methods: These are methods that operate on class variables, rather than instance variables. \n",
    "    They can be used to modify class variables or perform other operations that are related to the class itself."
   ]
  },
  {
   "cell_type": "code",
   "execution_count": 4,
   "id": "fa120a8d",
   "metadata": {},
   "outputs": [
    {
     "name": "stdout",
     "output_type": "stream",
     "text": [
      "Instance method called with instance variable 7\n",
      "Static method called\n",
      "Class method called with class variable 0\n"
     ]
    }
   ],
   "source": [
    "class MyClass:\n",
    "    class_variable = 0 \n",
    "\n",
    "    def __init__(self, instance_variable):\n",
    "        self.instance_variable = instance_variable  \n",
    "\n",
    "    def instance_method(self):\n",
    "        print(f\"Instance method called with instance variable {self.instance_variable}\")\n",
    "\n",
    "    @staticmethod\n",
    "    def static_method():\n",
    "        print(\"Static method called\")\n",
    "\n",
    "    @classmethod\n",
    "    def class_method(cls):\n",
    "        print(f\"Class method called with class variable {cls.class_variable}\")\n",
    "\n",
    "obj = MyClass(7)\n",
    "\n",
    "obj.instance_method()\n",
    "\n",
    "MyClass.static_method()\n",
    "\n",
    "MyClass.class_method()\n",
    "\n",
    "MyClass.class_variable = 8\n",
    "\n"
   ]
  },
  {
   "cell_type": "markdown",
   "id": "1786e838",
   "metadata": {},
   "source": [
    "# Question3: Functions"
   ]
  },
  {
   "cell_type": "code",
   "execution_count": 5,
   "id": "fcb5a376",
   "metadata": {},
   "outputs": [],
   "source": [
    "def find_first_non_repeating_char(string):\n",
    "    string = string.lower()  # convert all letters to lower case\n",
    "    counts = {}\n",
    "    for char in string:\n",
    "        if char in counts:\n",
    "            counts[char] += 1\n",
    "        else:\n",
    "            counts[char] = 1\n",
    "    for char in string:\n",
    "        if counts[char] == 1:\n",
    "            return char\n",
    "    return None  # no non-repeating character found\n"
   ]
  },
  {
   "cell_type": "code",
   "execution_count": 7,
   "id": "4d90e82c",
   "metadata": {},
   "outputs": [
    {
     "data": {
      "text/plain": [
       "'e'"
      ]
     },
     "execution_count": 7,
     "metadata": {},
     "output_type": "execute_result"
    }
   ],
   "source": [
    ">>> find_first_non_repeating_char('Name naMag')\n",
    "\n"
   ]
  },
  {
   "cell_type": "code",
   "execution_count": null,
   "id": "ade0b771",
   "metadata": {},
   "outputs": [],
   "source": []
  }
 ],
 "metadata": {
  "kernelspec": {
   "display_name": "Python 3 (ipykernel)",
   "language": "python",
   "name": "python3"
  },
  "language_info": {
   "codemirror_mode": {
    "name": "ipython",
    "version": 3
   },
   "file_extension": ".py",
   "mimetype": "text/x-python",
   "name": "python",
   "nbconvert_exporter": "python",
   "pygments_lexer": "ipython3",
   "version": "3.9.12"
  }
 },
 "nbformat": 4,
 "nbformat_minor": 5
}
